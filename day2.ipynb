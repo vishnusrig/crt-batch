{
 "cells": [
  {
   "cell_type": "code",
   "execution_count": 1,
   "metadata": {},
   "outputs": [
    {
     "ename": "SyntaxError",
     "evalue": "invalid syntax (<ipython-input-1-73aeeea7e763>, line 3)",
     "output_type": "error",
     "traceback": [
      "\u001b[1;36m  File \u001b[1;32m\"<ipython-input-1-73aeeea7e763>\"\u001b[1;36m, line \u001b[1;32m3\u001b[0m\n\u001b[1;33m    print c (type(a))\u001b[0m\n\u001b[1;37m          ^\u001b[0m\n\u001b[1;31mSyntaxError\u001b[0m\u001b[1;31m:\u001b[0m invalid syntax\n"
     ]
    }
   ],
   "source": [
    "a=10\n",
    "print (id(a))\n",
    "print c (type(a))\n",
    "print(a)"
   ]
  },
  {
   "cell_type": "code",
   "execution_count": null,
   "metadata": {},
   "outputs": [],
   "source": [
    "a=10\n",
    "print(id(a))\n",
    "print(type(a))\n",
    "print(a)"
   ]
  },
  {
   "cell_type": "code",
   "execution_count": null,
   "metadata": {},
   "outputs": [
    {
     "name": "stdout",
     "output_type": "stream",
     "text": [
      "10 24.5 gitam 24.5\n",
      "<class 'int'> <class 'float'> <class 'str'> <class 'float'>\n"
     ]
    }
   ],
   "source": [
    "a=10\n",
    "b=24.5\n",
    "c=\"gitam\"\n",
    "d=24.5\n",
    "print(a,b,c,d)\n",
    "print(type(a),type(b),type(c),type(d))"
   ]
  },
  {
   "cell_type": "code",
   "execution_count": null,
   "metadata": {},
   "outputs": [
    {
     "name": "stdout",
     "output_type": "stream",
     "text": [
      "1807796528\n",
      "1807797968\n"
     ]
    }
   ],
   "source": [
    "a=10\n",
    "print(id(a))\n",
    "a=100\n",
    "print(id(a))"
   ]
  },
  {
   "cell_type": "code",
   "execution_count": null,
   "metadata": {},
   "outputs": [
    {
     "name": "stdout",
     "output_type": "stream",
     "text": [
      "1807796528\n",
      "1807797968\n"
     ]
    }
   ],
   "source": [
    "print(id(10))\n",
    "print(id(100))"
   ]
  },
  {
   "cell_type": "code",
   "execution_count": null,
   "metadata": {},
   "outputs": [
    {
     "name": "stdout",
     "output_type": "stream",
     "text": [
      "5601504\n"
     ]
    }
   ],
   "source": [
    "a='t'\n",
    "print(id(a))"
   ]
  },
  {
   "cell_type": "code",
   "execution_count": null,
   "metadata": {},
   "outputs": [
    {
     "data": {
      "text/plain": [
       "'t'"
      ]
     },
     "execution_count": 6,
     "metadata": {},
     "output_type": "execute_result"
    }
   ],
   "source": [
    "a"
   ]
  },
  {
   "cell_type": "code",
   "execution_count": null,
   "metadata": {},
   "outputs": [
    {
     "name": "stdout",
     "output_type": "stream",
     "text": [
      "(2+5j)\n",
      "2.0\n",
      "5.0\n",
      "(2-5j)\n",
      "(3+4j)\n"
     ]
    }
   ],
   "source": [
    "a=2+5j\n",
    "print(a)\n",
    "print(a.real)\n",
    "print(a.imag)\n",
    "print(a.conjugate())\n",
    "c=complex(3,4)\n",
    "print(c)"
   ]
  },
  {
   "cell_type": "code",
   "execution_count": null,
   "metadata": {},
   "outputs": [
    {
     "name": "stdout",
     "output_type": "stream",
     "text": [
      "(7+12j)\n",
      "(-3-2j)\n",
      "(-25+39j)\n"
     ]
    }
   ],
   "source": [
    "c=2+5j\n",
    "d=5+7j\n",
    "print(c+d)\n",
    "print(c-d)\n",
    "print(c*d)"
   ]
  },
  {
   "cell_type": "code",
   "execution_count": null,
   "metadata": {},
   "outputs": [
    {
     "data": {
      "text/plain": [
       "(2+5j)"
      ]
     },
     "execution_count": 9,
     "metadata": {},
     "output_type": "execute_result"
    }
   ],
   "source": [
    "c"
   ]
  },
  {
   "cell_type": "code",
   "execution_count": null,
   "metadata": {},
   "outputs": [
    {
     "name": "stdout",
     "output_type": "stream",
     "text": [
      "gitam\n",
      "gitam\n",
      "<class 'str'> <class 'str'>\n",
      "5\n"
     ]
    }
   ],
   "source": [
    "str=\"gitam\"\n",
    "str1='gitam'\n",
    "print(str)\n",
    "print(str1)\n",
    "print(type(str),type(str1))\n",
    "print(len(str))"
   ]
  },
  {
   "cell_type": "code",
   "execution_count": null,
   "metadata": {},
   "outputs": [],
   "source": [
    "a=input(\"enter the number\")\n",
    "print(type(a))\n",
    "b=int(a)\n",
    "print(type(b))\n",
    "print(\"the number is\",b)"
   ]
  },
  {
   "cell_type": "code",
   "execution_count": null,
   "metadata": {},
   "outputs": [],
   "source": [
    "# comments in the python\n",
    "\n",
    "'''\n",
    "document string\n",
    "\n",
    "'''"
   ]
  },
  {
   "cell_type": "code",
   "execution_count": null,
   "metadata": {},
   "outputs": [],
   "source": [
    "#a=10\n",
    "b=100\n",
    "print(a)"
   ]
  },
  {
   "cell_type": "code",
   "execution_count": null,
   "metadata": {},
   "outputs": [],
   "source": [
    "#a=10\n",
    "'''\n",
    "print(\"it gives the description about resource of python\")\n",
    "\n",
    "'''\n",
    "b=100\n",
    "print(b)"
   ]
  },
  {
   "cell_type": "code",
   "execution_count": null,
   "metadata": {},
   "outputs": [],
   "source": [
    "#a=10\n",
    "'''\n",
    "print(\"it gives the description about resource of python\")\n",
    "\n",
    "'''\n"
   ]
  },
  {
   "cell_type": "code",
   "execution_count": null,
   "metadata": {},
   "outputs": [],
   "source": [
    "b=\"1947\"\n",
    "print(type(b))\n",
    "print(len(b))\n",
    "c=int(b)\n",
    "print(type(c))\n",
    "#print(len(c))"
   ]
  },
  {
   "cell_type": "code",
   "execution_count": null,
   "metadata": {},
   "outputs": [],
   "source": [
    "a=int(input(\"enter the first number\"))\n",
    "b=int(input(\"enter the second number\"))\n",
    "c=a+b\n",
    "print(\"the sumis\",c)"
   ]
  },
  {
   "cell_type": "code",
   "execution_count": null,
   "metadata": {},
   "outputs": [],
   "source": [
    "a=float(input(\"enter the first number\"))\n",
    "b=float(input(\"enter the second number\"))\n",
    "c=a+b\n",
    "print(\"the sumis\",c)"
   ]
  },
  {
   "cell_type": "code",
   "execution_count": null,
   "metadata": {},
   "outputs": [],
   "source": [
    "a=12\n",
    "b=5\n",
    "print(a+b)\n",
    "print(a-b)\n",
    "print(a*b)\n",
    "print(a/b)#division with decimal\n",
    "print(a//b)#floor division\n",
    "print(a%b)#remainder\n",
    "print(a**b)#pow(a,b)"
   ]
  },
  {
   "cell_type": "code",
   "execution_count": null,
   "metadata": {},
   "outputs": [],
   "source": [
    "x=10\n",
    "y=34\n",
    "print(x<34)\n",
    "print(x==34)\n",
    "print(x!=y)\n",
    "print(int(x>y))\n",
    "print(int(y>x))"
   ]
  },
  {
   "cell_type": "code",
   "execution_count": null,
   "metadata": {},
   "outputs": [],
   "source": [
    "x=20\n",
    "print(x>=20 and x<=30)\n",
    "print(x>=30 and x<=20)\n",
    "print(not(x))"
   ]
  },
  {
   "cell_type": "markdown",
   "metadata": {},
   "source": [
    "# membership operators\n",
    "## in,not in"
   ]
  },
  {
   "cell_type": "code",
   "execution_count": null,
   "metadata": {},
   "outputs": [],
   "source": [
    "str1=\"gitam\"\n",
    "print('i'in str1)\n",
    "print('z'not in str1)"
   ]
  },
  {
   "cell_type": "markdown",
   "metadata": {},
   "source": [
    "# identity operators\n",
    "## is,is not"
   ]
  },
  {
   "cell_type": "code",
   "execution_count": null,
   "metadata": {},
   "outputs": [],
   "source": [
    "a=45\n",
    "b=89\n",
    "print(a is b)\n",
    "print(a is not b)"
   ]
  },
  {
   "cell_type": "markdown",
   "metadata": {},
   "source": [
    "# Bitwise operator:(works with 0 and 1)\n",
    "## &,!,<<,>>,~\n",
    "## << leftshift\n",
    "## >> rightshift\n",
    "## ~(1's complement)"
   ]
  },
  {
   "cell_type": "markdown",
   "metadata": {},
   "source": [
    "# special operators\n",
    "## + and , are used for concatenation\n",
    "## repetation operator\n",
    "## [start:stop:step]slice operator\n",
    "## range(start,stop,step)\n",
    "## indentation:\n",
    "## it represents block or{} in c program"
   ]
  },
  {
   "cell_type": "code",
   "execution_count": null,
   "metadata": {},
   "outputs": [],
   "source": [
    "a=100\n",
    "print(\"the value of a is\",a)\n",
    "c=[1,2,3]\n",
    "d=[4,5,6]\n",
    "print(c+d)\n",
    "d=\"gitam\"\n",
    "print(d*3)\n",
    "print(d[1:3])\n",
    "print(list(range(1,10,2)))"
   ]
  },
  {
   "cell_type": "code",
   "execution_count": 1,
   "metadata": {},
   "outputs": [],
   "source": [
    "a=int(input(\"enter the first number\"))\n",
    "b=int(input(\"enter the second number\"))\n",
    "c=a+b\n",
    "print(\"the sumis\",c)"
   ]
  },
  {
   "cell_type": "code",
   "execution_count": 4,
   "metadata": {},
   "outputs": [
    {
     "name": "stdout",
     "output_type": "stream",
     "text": [
      "enter the first number30\n",
      "enter the second number20\n",
      "the sumis 50\n"
     ]
    }
   ],
   "source": [
    "a=int(input(\"enter the first number\"))\n",
    "b=int(input(\"enter the second number\"))\n",
    "c=a+b\n",
    "print(\"the sumis\",c)"
   ]
  },
  {
   "cell_type": "code",
   "execution_count": 1,
   "metadata": {},
   "outputs": [
    {
     "name": "stdout",
     "output_type": "stream",
     "text": [
      "it is positive number\n"
     ]
    }
   ],
   "source": [
    "a=10\n",
    "if(a>0):\n",
    "    print(\"it is positive number\")\n",
    "if(a<0):\n",
    "    print(\"it is negative number\")"
   ]
  },
  {
   "cell_type": "code",
   "execution_count": 2,
   "metadata": {},
   "outputs": [
    {
     "name": "stdout",
     "output_type": "stream",
     "text": [
      "it is positive number\n"
     ]
    }
   ],
   "source": [
    "a=10\n",
    "if(a>0):\n",
    "    print(\"it is positive number\")\n",
    "if(a<0):\n",
    "    print(\"it is negative number\")"
   ]
  },
  {
   "cell_type": "code",
   "execution_count": 3,
   "metadata": {},
   "outputs": [
    {
     "name": "stdout",
     "output_type": "stream",
     "text": [
      "it is positive number\n"
     ]
    }
   ],
   "source": [
    "a=10\n",
    "if(a>0):\n",
    "    print(\"it is positive number\")\n",
    "if(a<0):\n",
    "    print(\"it is negative number\")\n",
    "if(a==0):\n",
    "    print(\"it is zero\")"
   ]
  },
  {
   "cell_type": "code",
   "execution_count": 5,
   "metadata": {},
   "outputs": [
    {
     "name": "stdout",
     "output_type": "stream",
     "text": [
      "enter the number8\n",
      "8 is even number\n"
     ]
    }
   ],
   "source": [
    "n=int(input(\"enter the number\"))\n",
    "if(n%2==0):\n",
    "    print(n,\"is even number\")\n",
    "else:\n",
    "    print(n,\"is odd number\")"
   ]
  },
  {
   "cell_type": "code",
   "execution_count": 12,
   "metadata": {},
   "outputs": [
    {
     "name": "stdout",
     "output_type": "stream",
     "text": [
      "enter the year2000\n",
      "2000 is leap year\n"
     ]
    }
   ],
   "source": [
    "n=int(input(\"enter the year\"))\n",
    "if(n%100!=0 and n%4==0 or n%400==0): \n",
    "    print(n,\"is leap year\")\n",
    "else:\n",
    "    print(n,\"is not a leap year\")"
   ]
  },
  {
   "cell_type": "code",
   "execution_count": 15,
   "metadata": {},
   "outputs": [
    {
     "name": "stdout",
     "output_type": "stream",
     "text": [
      "500 is big\n"
     ]
    }
   ],
   "source": [
    "x,y,z=10,500,5\n",
    "if(x>y and x>z):\n",
    "    print(x,\"is big\")\n",
    "elif(y>z):\n",
    "    print(y,\"is big\")\n",
    "else:\n",
    "    print(z,\"is big\")"
   ]
  },
  {
   "cell_type": "code",
   "execution_count": 16,
   "metadata": {},
   "outputs": [
    {
     "name": "stdout",
     "output_type": "stream",
     "text": [
      "before swapping 25 35\n",
      "after swapping 35 25\n"
     ]
    }
   ],
   "source": [
    "a=25\n",
    "b=35\n",
    "print(\"before swapping\",a,b)\n",
    "a,b=b,a\n",
    "print(\"after swapping\",a,b)"
   ]
  },
  {
   "cell_type": "code",
   "execution_count": 22,
   "metadata": {},
   "outputs": [
    {
     "name": "stdout",
     "output_type": "stream",
     "text": [
      "enter the a value75\n",
      "enter the b value5\n",
      "enter the choice2\n",
      "70\n"
     ]
    }
   ],
   "source": [
    "a=int(input(\"enter the a value\"))\n",
    "b=int(input(\"enter the b value\"))\n",
    "ch=int(input(\"enter the choice\"))\n",
    "if(ch==1):\n",
    "    print(a+b)\n",
    "elif(ch==2):\n",
    "    print(a-b)\n",
    "elif(ch==3):\n",
    "    print(a*b)\n",
    "elif(ch==4):\n",
    "    print(a/b)\n",
    "elif(ch==5):\n",
    "    print(a%b)\n",
    "else:\n",
    "    print(\"invalid choice\")"
   ]
  },
  {
   "cell_type": "code",
   "execution_count": 26,
   "metadata": {},
   "outputs": [
    {
     "name": "stdout",
     "output_type": "stream",
     "text": [
      "enter the characterg\n",
      "it is a consonent\n"
     ]
    }
   ],
   "source": [
    "ch=input(\"enter the character\")\n",
    "if(ch=='a' or ch=='e' or ch=='i' or ch=='o' or ch=='u'):\n",
    "    print(\"it is a vowel\")\n",
    "elif(ch=='A' or ch=='E' or ch=='I' or ch=='O' or ch=='U'):\n",
    "    print(\"it is a vowel\")\n",
    "else:\n",
    "    print(\"it is a consonent\")"
   ]
  },
  {
   "cell_type": "code",
   "execution_count": 27,
   "metadata": {},
   "outputs": [
    {
     "data": {
      "text/plain": [
       "'C:\\\\Users\\\\student\\\\Anaconda3\\\\b6019 day3'"
      ]
     },
     "execution_count": 27,
     "metadata": {},
     "output_type": "execute_result"
    }
   ],
   "source": [
    "pwd()"
   ]
  },
  {
   "cell_type": "code",
   "execution_count": null,
   "metadata": {},
   "outputs": [],
   "source": []
  }
 ],
 "metadata": {
  "kernelspec": {
   "display_name": "Python 3",
   "language": "python",
   "name": "python3"
  },
  "language_info": {
   "codemirror_mode": {
    "name": "ipython",
    "version": 3
   },
   "file_extension": ".py",
   "mimetype": "text/x-python",
   "name": "python",
   "nbconvert_exporter": "python",
   "pygments_lexer": "ipython3",
   "version": "3.7.3"
  }
 },
 "nbformat": 4,
 "nbformat_minor": 2
}
